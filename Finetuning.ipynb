{
 "cells": [
  {
   "metadata": {},
   "cell_type": "markdown",
   "source": "## Prompt Injection",
   "id": "a90c5b6de22d30e0"
  },
  {
   "metadata": {},
   "cell_type": "markdown",
   "source": "### Mock data maken",
   "id": "ba057346f18bc0c5"
  },
  {
   "metadata": {
    "ExecuteTime": {
     "end_time": "2024-12-11T18:59:15.521526Z",
     "start_time": "2024-12-11T18:58:33.068569Z"
    }
   },
   "cell_type": "code",
   "source": [
    "from transformers import AutoTokenizer, AutoModelForCausalLM, Trainer, TrainingArguments\n",
    "from datasets import load_dataset\n",
    "from dotenv import load_dotenv\n",
    "from faker import Faker\n",
    "import pandas as pd\n",
    "import random\n",
    "import json\n",
    "import os "
   ],
   "id": "85dd11c16d2c7192",
   "outputs": [
    {
     "name": "stdout",
     "output_type": "stream",
     "text": [
      "WARNING:tensorflow:From C:\\Users\\rensv\\AppData\\Local\\Programs\\Python\\Python312\\Lib\\site-packages\\tf_keras\\src\\losses.py:2976: The name tf.losses.sparse_softmax_cross_entropy is deprecated. Please use tf.compat.v1.losses.sparse_softmax_cross_entropy instead.\n",
      "\n"
     ]
    }
   ],
   "execution_count": 1
  },
  {
   "metadata": {
    "ExecuteTime": {
     "end_time": "2024-12-11T18:59:42.819025Z",
     "start_time": "2024-12-11T18:59:42.450054Z"
    }
   },
   "cell_type": "code",
   "source": [
    "fake = Faker()\n",
    "Faker.seed(42)\n",
    "random.seed(42)"
   ],
   "id": "dd2e5058833a69d4",
   "outputs": [],
   "execution_count": 2
  },
  {
   "metadata": {
    "ExecuteTime": {
     "end_time": "2024-12-11T18:59:42.863780Z",
     "start_time": "2024-12-11T18:59:42.856555Z"
    }
   },
   "cell_type": "code",
   "source": [
    "def generate_patient_data(num_patients=100):\n",
    "    patient_data = []\n",
    "    for _ in range(num_patients):\n",
    "        patient = {\n",
    "            \"PatientName\": fake.name(),\n",
    "            \"Age\": random.randint(1, 100),\n",
    "            \"Gender\": random.choice([\"Male\", \"Female\", \"Other\"]),\n",
    "            \"Diagnosis\": random.choice([\"Hypertension\", \"Diabetes\", \"Asthma\", \"Heart Failure\", \"Depression\"]),\n",
    "            \"Medications\": random.choice([\"Metformin\", \"Paracetamol\", \"Lisinopril\", \"Salbutamol\", \"Sertraline\"]),\n",
    "            \"AdmissionDate\": fake.date_this_year().strftime(\"%Y-%m-%d\"),\n",
    "            \"DischargeDate\": fake.date_this_year().strftime(\"%Y-%m-%d\"),\n",
    "            \"Department\": random.choice([\"Cardiology\", \"Psychiatry\", \"Endocrinology\", \"Pulmonology\"]),\n",
    "            \"BloodPressure\": f\"{random.randint(90, 180)}/{random.randint(60, 120)}\",\n",
    "            \"Lifestyle\": {\n",
    "                \"Smoking\": random.choice([\"Yes\", \"No\"]),\n",
    "                \"Alcohol\": random.choice([\"Yes\", \"No\"]),\n",
    "                \"PhysicalActivity\": random.choice([\"Low\", \"Moderate\", \"High\"])\n",
    "            },\n",
    "            \"Symptoms\": random.choice([\"Chest pain\", \"Shortness of breath\", \"Headache\", \"Fatigue\", \"Nausea\"]),\n",
    "            \"Address\": fake.address() \n",
    "        }\n",
    "        patient_data.append(patient)\n",
    "    return patient_data"
   ],
   "id": "3b6a07eb03a4bb62",
   "outputs": [],
   "execution_count": 3
  },
  {
   "metadata": {
    "ExecuteTime": {
     "end_time": "2024-12-11T18:59:44.657541Z",
     "start_time": "2024-12-11T18:59:44.589220Z"
    }
   },
   "cell_type": "code",
   "source": "patient_df = generate_patient_data(100)",
   "id": "2204590de862423a",
   "outputs": [],
   "execution_count": 4
  },
  {
   "metadata": {},
   "cell_type": "markdown",
   "source": [
    "### Mock data omzetten naar ander format\n",
    "\n",
    "Llama werkt het best met een dataset dat bestaat uit teksten in plaats van rijen en kolommen."
   ],
   "id": "5fcb379320f73ccd"
  },
  {
   "metadata": {
    "ExecuteTime": {
     "end_time": "2024-12-11T18:59:46.743068Z",
     "start_time": "2024-12-11T18:59:46.739054Z"
    }
   },
   "cell_type": "code",
   "source": [
    "def generate_instructions():\n",
    "    return random.choice([\n",
    "        \"Summarize the patient's medical profile.\",\n",
    "        \"What is the diagnosis for this patient?\",\n",
    "        \"What medications are prescribed to the patient?\",\n",
    "        \"Suggest lifestyle changes for the patient based on their medical history.\",\n",
    "        \"Assess the patient's risk level based on their vitals and medical history.\",\n",
    "        \"What symptoms are reported by the patient?\",\n",
    "        \"Explain the patient's condition in simple terms for their family.\",\n",
    "        \"What department is the patient admitted to?\",\n",
    "        \"When was the patient last admitted to the hospital?\"\n",
    "    ])"
   ],
   "id": "37b2b45b8b1a59e2",
   "outputs": [],
   "execution_count": 5
  },
  {
   "metadata": {
    "ExecuteTime": {
     "end_time": "2024-12-11T18:59:47.137462Z",
     "start_time": "2024-12-11T18:59:47.129606Z"
    }
   },
   "cell_type": "code",
   "source": [
    "def convert_to_llama_format(patient_data):\n",
    "    data = []\n",
    "    for patient in patient_data:\n",
    "        instruction = generate_instructions()\n",
    "        if \"Summarize\" in instruction:\n",
    "            input_data = (\n",
    "                f\"Name: {patient['PatientName']}, Age: {patient['Age']}, Gender: {patient['Gender']}, \"\n",
    "                f\"Blood Pressure: {patient['BloodPressure']}, Medications: {patient['Medications']}, Department: {patient['Department']}\"\n",
    "            )\n",
    "            output_data = (\n",
    "                f\"{patient['PatientName']} is a {patient['Age']}-year-old {patient['Gender'].lower()} \"\n",
    "                f\"treated in the {patient['Department']} department. \"\n",
    "                f\"The patient has a blood pressure reading of {patient['BloodPressure']} and is prescribed {patient['Medications']}.\"\n",
    "            )\n",
    "        elif \"What is the diagnosis\" in instruction:\n",
    "            input_data = (\n",
    "                f\"Name: {patient['PatientName']}, Symptoms: {patient['Symptoms']}, Blood Pressure: {patient['BloodPressure']}, Department: {patient['Department']}\"\n",
    "            )\n",
    "            output_data = f\"The patient is diagnosed with {patient['Diagnosis']}.\"\n",
    "        elif \"What medications\" in instruction:\n",
    "            input_data = (\n",
    "                f\"Name: {patient['PatientName']}, Age: {patient['Age']}, Medications: {patient['Medications']}\"\n",
    "            )\n",
    "            output_data = f\"The patient is prescribed {patient['Medications']}.\"\n",
    "        elif \"Suggest lifestyle changes\" in instruction:\n",
    "            input_data = (\n",
    "                f\"Name: {patient['PatientName']}, Age: {patient['Age']}, Lifestyle: Smoking: {patient['Lifestyle']['Smoking']}, \"\n",
    "                f\"Alcohol: {patient['Lifestyle']['Alcohol']}, Physical Activity: {patient['Lifestyle']['PhysicalActivity']}\"\n",
    "            )\n",
    "            output_data = (\n",
    "                f\"The patient should quit smoking, reduce alcohol consumption, and increase physical activity to a moderate level.\"\n",
    "                if patient['Lifestyle']['Smoking'] == \"Yes\" or patient['Lifestyle']['Alcohol'] == \"Yes\" else\n",
    "                \"The patient's lifestyle is healthy, no significant changes needed.\"\n",
    "            )\n",
    "        elif \"Assess the patient's risk level\" in instruction:\n",
    "            input_data = (\n",
    "                f\"Name: {patient['PatientName']}, Age: {patient['Age']}, Blood Pressure: {patient['BloodPressure']}, \"\n",
    "                f\"Medical History: {patient['Diagnosis']}\"\n",
    "            )\n",
    "            output_data = (\n",
    "                f\"The patient has a high risk of complications due to {patient['Diagnosis'].lower()} and elevated blood pressure.\"\n",
    "                if \"Hypertension\" in patient['Diagnosis'] else\n",
    "                f\"The patient's risk level is moderate based on their medical history.\"\n",
    "            )\n",
    "        elif \"What symptoms\" in instruction:\n",
    "            input_data = (\n",
    "                f\"Name: {patient['PatientName']}, Age: {patient['Age']}, Symptoms: {patient['Symptoms']}\"\n",
    "            )\n",
    "            output_data = f\"The patient reports {patient['Symptoms']}.\"\n",
    "        elif \"Explain the patient's condition\" in instruction:\n",
    "            input_data = (\n",
    "                f\"Name: {patient['PatientName']}, Age: {patient['Age']}, Diagnosis: {patient['Diagnosis']}\"\n",
    "            )\n",
    "            output_data = (\n",
    "                f\"{patient['PatientName']} has been diagnosed with {patient['Diagnosis'].lower()}, which requires ongoing management and treatment.\"\n",
    "            )\n",
    "        elif \"What department\" in instruction:\n",
    "            input_data = (\n",
    "                f\"Name: {patient['PatientName']}, Department: {patient['Department']}\"\n",
    "            )\n",
    "            output_data = f\"The patient is admitted to the {patient['Department']} department.\"\n",
    "        elif \"When was the patient last admitted\" in instruction:\n",
    "            input_data = (\n",
    "                f\"Name: {patient['PatientName']}, Admission Date: {patient['AdmissionDate']}\"\n",
    "            )\n",
    "            output_data = f\"The patient was last admitted on {patient['AdmissionDate']}.\"\n",
    "\n",
    "        example = {\n",
    "            \"instruction\": instruction,\n",
    "            \"input\": input_data,\n",
    "            \"output\": output_data\n",
    "        }\n",
    "        data.append(example)\n",
    "    return data"
   ],
   "id": "3feb06cb0180d3fb",
   "outputs": [],
   "execution_count": 6
  },
  {
   "metadata": {
    "ExecuteTime": {
     "end_time": "2024-12-11T18:59:48.448196Z",
     "start_time": "2024-12-11T18:59:48.444958Z"
    }
   },
   "cell_type": "code",
   "source": "llama_data = convert_to_llama_format(patient_df)",
   "id": "95f963abcde191fc",
   "outputs": [],
   "execution_count": 7
  },
  {
   "metadata": {
    "ExecuteTime": {
     "end_time": "2024-12-11T18:59:48.910054Z",
     "start_time": "2024-12-11T18:59:48.902514Z"
    }
   },
   "cell_type": "code",
   "source": [
    "output_file = \"mock_patient_data.jsonl\"\n",
    "with open(output_file, \"w\") as f:\n",
    "    for entry in llama_data:\n",
    "        f.write(json.dumps(entry) + \"\\n\")\n",
    "\n",
    "print(f\"Dataset opgeslagen in {output_file}\")"
   ],
   "id": "c3acd27143a983ac",
   "outputs": [
    {
     "name": "stdout",
     "output_type": "stream",
     "text": [
      "Dataset opgeslagen in mock_patient_data.jsonl\n"
     ]
    }
   ],
   "execution_count": 8
  },
  {
   "metadata": {},
   "cell_type": "markdown",
   "source": "# LLaMA toepassen\n",
   "id": "cbc188f813802df2"
  },
  {
   "metadata": {},
   "cell_type": "markdown",
   "source": [
    "## Huggingface \n",
    "\n",
    "Om Llama te gebruiken via Huggingface moet er toegang geven worden aan je huggingface account. Daarom moet er ingelogd worden op huggingface"
   ],
   "id": "90802f62056e0982"
  },
  {
   "metadata": {
    "ExecuteTime": {
     "end_time": "2024-12-11T18:59:56.425096Z",
     "start_time": "2024-12-11T18:59:56.421252Z"
    }
   },
   "cell_type": "code",
   "source": [
    "load_dotenv(\"HF_TOKEN.env\")\n",
    "hf_token = os.getenv(\"HF_TOKEN\")"
   ],
   "id": "d49773e9c9bd6b8e",
   "outputs": [],
   "execution_count": 9
  },
  {
   "metadata": {},
   "cell_type": "markdown",
   "source": [
    "### Model ophalen\n",
    "\n",
    "Het model wordt opgehaald en gedownload"
   ],
   "id": "7662ca7f7cef527f"
  },
  {
   "metadata": {
    "ExecuteTime": {
     "end_time": "2024-12-11T18:57:16.611022Z",
     "start_time": "2024-12-11T18:57:16.608453Z"
    }
   },
   "cell_type": "code",
   "source": [
    "tokenizer = AutoTokenizer.from_pretrained(\"meta-llama/Llama-3.2-1B\", token=hf_token)\n",
    "model = AutoModelForCausalLM.from_pretrained(\"meta-llama/Llama-3.2-1B\", token=hf_token)"
   ],
   "id": "2fd6c4687087a3c6",
   "outputs": [],
   "execution_count": null
  },
  {
   "metadata": {},
   "cell_type": "markdown",
   "source": "### Data transformeren voor trainen",
   "id": "6e2a6f8bdd277719"
  },
  {
   "metadata": {
    "ExecuteTime": {
     "end_time": "2024-12-10T20:39:02.610555Z",
     "start_time": "2024-12-10T20:39:02.279239Z"
    }
   },
   "cell_type": "code",
   "source": [
    "dataset = load_dataset(\"json\", data_files={\"train\": \"mock_patient_data.jsonl\"})\n",
    "print(dataset)"
   ],
   "id": "2a1d2964650b1286",
   "outputs": [
    {
     "name": "stdout",
     "output_type": "stream",
     "text": [
      "DatasetDict({\n",
      "    train: Dataset({\n",
      "        features: ['instruction', 'input', 'output'],\n",
      "        num_rows: 100\n",
      "    })\n",
      "})\n"
     ]
    }
   ],
   "execution_count": 17
  },
  {
   "metadata": {
    "ExecuteTime": {
     "end_time": "2024-12-10T20:39:23.826308Z",
     "start_time": "2024-12-10T20:39:23.811824Z"
    }
   },
   "cell_type": "code",
   "source": [
    "print(dataset.column_names)\n",
    "print(dataset['train'][0])  # Bekijk de eerste rij\n"
   ],
   "id": "61c16a2618ab208d",
   "outputs": [
    {
     "name": "stdout",
     "output_type": "stream",
     "text": [
      "{'train': ['instruction', 'input', 'output']}\n",
      "{'instruction': \"Summarize the patient's medical profile.\", 'input': 'Name: Allison Hill, Age: 82, Gender: Male, Blood Pressure: 118/68, Medications: Lisinopril, Department: Psychiatry', 'output': 'Allison Hill is a 82-year-old male treated in the Psychiatry department. The patient has a blood pressure reading of 118/68 and is prescribed Lisinopril.'}\n"
     ]
    }
   ],
   "execution_count": 19
  },
  {
   "metadata": {},
   "cell_type": "markdown",
   "source": [
    "### Tokenizen\n",
    "\n",
    "De tekst in iedere row wordt vervangen door cijfers (tokens) die een stuk tekst representeren. "
   ],
   "id": "bd516184217cdaa"
  },
  {
   "metadata": {
    "ExecuteTime": {
     "end_time": "2024-12-10T20:56:17.107371Z",
     "start_time": "2024-12-10T20:56:17.102955Z"
    }
   },
   "cell_type": "code",
   "source": [
    "def preprocess_function(example):\n",
    "    try:\n",
    "        # Combine instruction and input\n",
    "        input_text = example[\"instruction\"] + \" \" + example[\"input\"]\n",
    "        # Tokenize input\n",
    "        model_inputs = tokenizer(input_text, padding=\"max_length\", truncation=True, max_length=512)\n",
    "\n",
    "        # Tokenize output (labels)\n",
    "        labels = tokenizer(example[\"output\"], padding=\"max_length\", truncation=True, max_length=512).input_ids\n",
    "        model_inputs[\"labels\"] = labels\n",
    "\n",
    "        return model_inputs\n",
    "    except Exception as e:\n",
    "        print(\"Error processing:\", example)\n",
    "        print(\"Error message:\", e)\n",
    "        return {}\n"
   ],
   "id": "e9e81d8041024430",
   "outputs": [],
   "execution_count": 48
  },
  {
   "metadata": {
    "ExecuteTime": {
     "end_time": "2024-12-10T20:56:42.557185Z",
     "start_time": "2024-12-10T20:56:42.152113Z"
    }
   },
   "cell_type": "code",
   "source": "tokenized_datasets = dataset[\"train\"].map(preprocess_function, batched=False)",
   "id": "f0d7b3eab7d737e0",
   "outputs": [
    {
     "data": {
      "text/plain": [
       "Map:   0%|          | 0/100 [00:00<?, ? examples/s]"
      ],
      "application/vnd.jupyter.widget-view+json": {
       "version_major": 2,
       "version_minor": 0,
       "model_id": "11446a3bb6b549d182c69f0a57360997"
      }
     },
     "metadata": {},
     "output_type": "display_data"
    }
   ],
   "execution_count": 51
  },
  {
   "metadata": {
    "ExecuteTime": {
     "end_time": "2024-12-10T20:56:45.233459Z",
     "start_time": "2024-12-10T20:56:45.229272Z"
    }
   },
   "cell_type": "code",
   "source": [
    "print(tokenized_datasets)\n",
    "print(tokenized_datasets[0])\n"
   ],
   "id": "85a8b97e6a02e121",
   "outputs": [
    {
     "name": "stdout",
     "output_type": "stream",
     "text": [
      "Dataset({\n",
      "    features: ['instruction', 'input', 'output', 'input_ids', 'attention_mask', 'labels'],\n",
      "    num_rows: 100\n",
      "})\n",
      "{'instruction': \"Summarize the patient's medical profile.\", 'input': 'Name: Allison Hill, Age: 82, Gender: Male, Blood Pressure: 118/68, Medications: Lisinopril, Department: Psychiatry', 'output': 'Allison Hill is a 82-year-old male treated in the Psychiatry department. The patient has a blood pressure reading of 118/68 and is prescribed Lisinopril.', 'input_ids': [128004, 128004, 128004, 128004, 128004, 128004, 128004, 128004, 128004, 128004, 128004, 128004, 128004, 128004, 128004, 128004, 128004, 128004, 128004, 128004, 128004, 128004, 128004, 128004, 128004, 128004, 128004, 128004, 128004, 128004, 128004, 128004, 128004, 128004, 128004, 128004, 128004, 128004, 128004, 128004, 128004, 128004, 128004, 128004, 128004, 128004, 128004, 128004, 128004, 128004, 128004, 128004, 128004, 128004, 128004, 128004, 128004, 128004, 128004, 128004, 128004, 128004, 128004, 128004, 128004, 128004, 128004, 128004, 128004, 128004, 128004, 128004, 128004, 128004, 128004, 128004, 128004, 128004, 128004, 128004, 128004, 128004, 128004, 128004, 128004, 128004, 128004, 128004, 128004, 128004, 128004, 128004, 128004, 128004, 128004, 128004, 128004, 128004, 128004, 128004, 128004, 128004, 128004, 128004, 128004, 128004, 128004, 128004, 128004, 128004, 128004, 128004, 128004, 128004, 128004, 128004, 128004, 128004, 128004, 128004, 128004, 128004, 128004, 128004, 128004, 128004, 128004, 128004, 128004, 128004, 128004, 128004, 128004, 128004, 128004, 128004, 128004, 128004, 128004, 128004, 128004, 128004, 128004, 128004, 128004, 128004, 128004, 128004, 128004, 128004, 128004, 128004, 128004, 128004, 128004, 128004, 128004, 128004, 128004, 128004, 128004, 128004, 128004, 128004, 128004, 128004, 128004, 128004, 128004, 128004, 128004, 128004, 128004, 128004, 128004, 128004, 128004, 128004, 128004, 128004, 128004, 128004, 128004, 128004, 128004, 128004, 128004, 128004, 128004, 128004, 128004, 128004, 128004, 128004, 128004, 128004, 128004, 128004, 128004, 128004, 128004, 128004, 128004, 128004, 128004, 128004, 128004, 128004, 128004, 128004, 128004, 128004, 128004, 128004, 128004, 128004, 128004, 128004, 128004, 128004, 128004, 128004, 128004, 128004, 128004, 128004, 128004, 128004, 128004, 128004, 128004, 128004, 128004, 128004, 128004, 128004, 128004, 128004, 128004, 128004, 128004, 128004, 128004, 128004, 128004, 128004, 128004, 128004, 128004, 128004, 128004, 128004, 128004, 128004, 128004, 128004, 128004, 128004, 128004, 128004, 128004, 128004, 128004, 128004, 128004, 128004, 128004, 128004, 128004, 128004, 128004, 128004, 128004, 128004, 128004, 128004, 128004, 128004, 128004, 128004, 128004, 128004, 128004, 128004, 128004, 128004, 128004, 128004, 128004, 128004, 128004, 128004, 128004, 128004, 128004, 128004, 128004, 128004, 128004, 128004, 128004, 128004, 128004, 128004, 128004, 128004, 128004, 128004, 128004, 128004, 128004, 128004, 128004, 128004, 128004, 128004, 128004, 128004, 128004, 128004, 128004, 128004, 128004, 128004, 128004, 128004, 128004, 128004, 128004, 128004, 128004, 128004, 128004, 128004, 128004, 128004, 128004, 128004, 128004, 128004, 128004, 128004, 128004, 128004, 128004, 128004, 128004, 128004, 128004, 128004, 128004, 128004, 128004, 128004, 128004, 128004, 128004, 128004, 128004, 128004, 128004, 128004, 128004, 128004, 128004, 128004, 128004, 128004, 128004, 128004, 128004, 128004, 128004, 128004, 128004, 128004, 128004, 128004, 128004, 128004, 128004, 128004, 128004, 128004, 128004, 128004, 128004, 128004, 128004, 128004, 128004, 128004, 128004, 128004, 128004, 128004, 128004, 128004, 128004, 128004, 128004, 128004, 128004, 128004, 128004, 128004, 128004, 128004, 128004, 128004, 128004, 128004, 128004, 128004, 128004, 128004, 128004, 128004, 128004, 128004, 128004, 128004, 128004, 128004, 128004, 128004, 128004, 128004, 128004, 128004, 128004, 128004, 128004, 128004, 128004, 128004, 128004, 128004, 128004, 128004, 128004, 128004, 128004, 128004, 128004, 128004, 128004, 128004, 128004, 128004, 128004, 128004, 128004, 128004, 128004, 128004, 128004, 128004, 128004, 128004, 128004, 128004, 128004, 128004, 128004, 128004, 128004, 128004, 128004, 128000, 9370, 5730, 553, 279, 8893, 596, 6593, 5643, 13, 4076, 25, 63508, 8270, 11, 13381, 25, 220, 6086, 11, 29317, 25, 19960, 11, 20671, 40090, 25, 220, 8899, 14, 2614, 11, 12851, 811, 25, 44172, 258, 454, 31660, 11, 6011, 25, 69244], 'attention_mask': [0, 0, 0, 0, 0, 0, 0, 0, 0, 0, 0, 0, 0, 0, 0, 0, 0, 0, 0, 0, 0, 0, 0, 0, 0, 0, 0, 0, 0, 0, 0, 0, 0, 0, 0, 0, 0, 0, 0, 0, 0, 0, 0, 0, 0, 0, 0, 0, 0, 0, 0, 0, 0, 0, 0, 0, 0, 0, 0, 0, 0, 0, 0, 0, 0, 0, 0, 0, 0, 0, 0, 0, 0, 0, 0, 0, 0, 0, 0, 0, 0, 0, 0, 0, 0, 0, 0, 0, 0, 0, 0, 0, 0, 0, 0, 0, 0, 0, 0, 0, 0, 0, 0, 0, 0, 0, 0, 0, 0, 0, 0, 0, 0, 0, 0, 0, 0, 0, 0, 0, 0, 0, 0, 0, 0, 0, 0, 0, 0, 0, 0, 0, 0, 0, 0, 0, 0, 0, 0, 0, 0, 0, 0, 0, 0, 0, 0, 0, 0, 0, 0, 0, 0, 0, 0, 0, 0, 0, 0, 0, 0, 0, 0, 0, 0, 0, 0, 0, 0, 0, 0, 0, 0, 0, 0, 0, 0, 0, 0, 0, 0, 0, 0, 0, 0, 0, 0, 0, 0, 0, 0, 0, 0, 0, 0, 0, 0, 0, 0, 0, 0, 0, 0, 0, 0, 0, 0, 0, 0, 0, 0, 0, 0, 0, 0, 0, 0, 0, 0, 0, 0, 0, 0, 0, 0, 0, 0, 0, 0, 0, 0, 0, 0, 0, 0, 0, 0, 0, 0, 0, 0, 0, 0, 0, 0, 0, 0, 0, 0, 0, 0, 0, 0, 0, 0, 0, 0, 0, 0, 0, 0, 0, 0, 0, 0, 0, 0, 0, 0, 0, 0, 0, 0, 0, 0, 0, 0, 0, 0, 0, 0, 0, 0, 0, 0, 0, 0, 0, 0, 0, 0, 0, 0, 0, 0, 0, 0, 0, 0, 0, 0, 0, 0, 0, 0, 0, 0, 0, 0, 0, 0, 0, 0, 0, 0, 0, 0, 0, 0, 0, 0, 0, 0, 0, 0, 0, 0, 0, 0, 0, 0, 0, 0, 0, 0, 0, 0, 0, 0, 0, 0, 0, 0, 0, 0, 0, 0, 0, 0, 0, 0, 0, 0, 0, 0, 0, 0, 0, 0, 0, 0, 0, 0, 0, 0, 0, 0, 0, 0, 0, 0, 0, 0, 0, 0, 0, 0, 0, 0, 0, 0, 0, 0, 0, 0, 0, 0, 0, 0, 0, 0, 0, 0, 0, 0, 0, 0, 0, 0, 0, 0, 0, 0, 0, 0, 0, 0, 0, 0, 0, 0, 0, 0, 0, 0, 0, 0, 0, 0, 0, 0, 0, 0, 0, 0, 0, 0, 0, 0, 0, 0, 0, 0, 0, 0, 0, 0, 0, 0, 0, 0, 0, 0, 0, 0, 0, 0, 0, 0, 0, 0, 0, 0, 0, 0, 0, 0, 0, 0, 0, 0, 0, 0, 0, 0, 0, 0, 0, 0, 1, 1, 1, 1, 1, 1, 1, 1, 1, 1, 1, 1, 1, 1, 1, 1, 1, 1, 1, 1, 1, 1, 1, 1, 1, 1, 1, 1, 1, 1, 1, 1, 1, 1, 1, 1, 1, 1, 1, 1, 1, 1, 1], 'labels': [128004, 128004, 128004, 128004, 128004, 128004, 128004, 128004, 128004, 128004, 128004, 128004, 128004, 128004, 128004, 128004, 128004, 128004, 128004, 128004, 128004, 128004, 128004, 128004, 128004, 128004, 128004, 128004, 128004, 128004, 128004, 128004, 128004, 128004, 128004, 128004, 128004, 128004, 128004, 128004, 128004, 128004, 128004, 128004, 128004, 128004, 128004, 128004, 128004, 128004, 128004, 128004, 128004, 128004, 128004, 128004, 128004, 128004, 128004, 128004, 128004, 128004, 128004, 128004, 128004, 128004, 128004, 128004, 128004, 128004, 128004, 128004, 128004, 128004, 128004, 128004, 128004, 128004, 128004, 128004, 128004, 128004, 128004, 128004, 128004, 128004, 128004, 128004, 128004, 128004, 128004, 128004, 128004, 128004, 128004, 128004, 128004, 128004, 128004, 128004, 128004, 128004, 128004, 128004, 128004, 128004, 128004, 128004, 128004, 128004, 128004, 128004, 128004, 128004, 128004, 128004, 128004, 128004, 128004, 128004, 128004, 128004, 128004, 128004, 128004, 128004, 128004, 128004, 128004, 128004, 128004, 128004, 128004, 128004, 128004, 128004, 128004, 128004, 128004, 128004, 128004, 128004, 128004, 128004, 128004, 128004, 128004, 128004, 128004, 128004, 128004, 128004, 128004, 128004, 128004, 128004, 128004, 128004, 128004, 128004, 128004, 128004, 128004, 128004, 128004, 128004, 128004, 128004, 128004, 128004, 128004, 128004, 128004, 128004, 128004, 128004, 128004, 128004, 128004, 128004, 128004, 128004, 128004, 128004, 128004, 128004, 128004, 128004, 128004, 128004, 128004, 128004, 128004, 128004, 128004, 128004, 128004, 128004, 128004, 128004, 128004, 128004, 128004, 128004, 128004, 128004, 128004, 128004, 128004, 128004, 128004, 128004, 128004, 128004, 128004, 128004, 128004, 128004, 128004, 128004, 128004, 128004, 128004, 128004, 128004, 128004, 128004, 128004, 128004, 128004, 128004, 128004, 128004, 128004, 128004, 128004, 128004, 128004, 128004, 128004, 128004, 128004, 128004, 128004, 128004, 128004, 128004, 128004, 128004, 128004, 128004, 128004, 128004, 128004, 128004, 128004, 128004, 128004, 128004, 128004, 128004, 128004, 128004, 128004, 128004, 128004, 128004, 128004, 128004, 128004, 128004, 128004, 128004, 128004, 128004, 128004, 128004, 128004, 128004, 128004, 128004, 128004, 128004, 128004, 128004, 128004, 128004, 128004, 128004, 128004, 128004, 128004, 128004, 128004, 128004, 128004, 128004, 128004, 128004, 128004, 128004, 128004, 128004, 128004, 128004, 128004, 128004, 128004, 128004, 128004, 128004, 128004, 128004, 128004, 128004, 128004, 128004, 128004, 128004, 128004, 128004, 128004, 128004, 128004, 128004, 128004, 128004, 128004, 128004, 128004, 128004, 128004, 128004, 128004, 128004, 128004, 128004, 128004, 128004, 128004, 128004, 128004, 128004, 128004, 128004, 128004, 128004, 128004, 128004, 128004, 128004, 128004, 128004, 128004, 128004, 128004, 128004, 128004, 128004, 128004, 128004, 128004, 128004, 128004, 128004, 128004, 128004, 128004, 128004, 128004, 128004, 128004, 128004, 128004, 128004, 128004, 128004, 128004, 128004, 128004, 128004, 128004, 128004, 128004, 128004, 128004, 128004, 128004, 128004, 128004, 128004, 128004, 128004, 128004, 128004, 128004, 128004, 128004, 128004, 128004, 128004, 128004, 128004, 128004, 128004, 128004, 128004, 128004, 128004, 128004, 128004, 128004, 128004, 128004, 128004, 128004, 128004, 128004, 128004, 128004, 128004, 128004, 128004, 128004, 128004, 128004, 128004, 128004, 128004, 128004, 128004, 128004, 128004, 128004, 128004, 128004, 128004, 128004, 128004, 128004, 128004, 128004, 128004, 128004, 128004, 128004, 128004, 128004, 128004, 128004, 128004, 128004, 128004, 128004, 128004, 128004, 128004, 128004, 128004, 128004, 128004, 128004, 128004, 128004, 128004, 128004, 128004, 128004, 128004, 128004, 128004, 128004, 128004, 128004, 128004, 128000, 2460, 3416, 8270, 374, 264, 220, 6086, 4771, 6418, 8762, 12020, 304, 279, 69244, 9476, 13, 578, 8893, 706, 264, 6680, 7410, 5403, 315, 220, 8899, 14, 2614, 323, 374, 32031, 44172, 258, 454, 31660, 13]}\n"
     ]
    }
   ],
   "execution_count": 52
  },
  {
   "metadata": {},
   "cell_type": "markdown",
   "source": [
    "### Llama Trainen\n",
    "\n",
    "Na het tokenizen wordt Llama getraind"
   ],
   "id": "98b954395d14640f"
  },
  {
   "metadata": {
    "ExecuteTime": {
     "end_time": "2024-12-10T20:35:29.283657Z",
     "start_time": "2024-12-10T20:35:29.228597Z"
    }
   },
   "cell_type": "code",
   "source": [
    "training_args = TrainingArguments(\n",
    "    output_dir=\"./llama_finetuned\",\n",
    "    eval_strategy=\"epoch\",\n",
    "    save_strategy=\"epoch\",\n",
    "    learning_rate=2e-5,\n",
    "    per_device_train_batch_size=2,\n",
    "    max_steps=60,\n",
    "    num_train_epochs=1,\n",
    "    weight_decay=0.01,\n",
    "    logging_dir=\"./logs\",\n",
    "    logging_steps=10,\n",
    "    save_total_limit=2,\n",
    "    fp16=True,  # Mixed precision voor snelheid\n",
    ")"
   ],
   "id": "399e8d3ee540889",
   "outputs": [],
   "execution_count": 10
  },
  {
   "metadata": {},
   "cell_type": "code",
   "outputs": [],
   "execution_count": null,
   "source": [
    "trainer = Trainer(\n",
    "    model=model,\n",
    "    args=training_args,\n",
    "    train_dataset=tokenized_datasets,\n",
    "    tokenizer=tokenizer,\n",
    ")\n",
    "\n",
    "trainer.train()"
   ],
   "id": "9c36198b4100d495"
  },
  {
   "metadata": {},
   "cell_type": "markdown",
   "source": "### Model opslaan",
   "id": "557f597284b73603"
  },
  {
   "metadata": {
    "ExecuteTime": {
     "end_time": "2024-12-10T21:04:32.797316Z",
     "start_time": "2024-12-10T21:04:32.794162Z"
    }
   },
   "cell_type": "code",
   "source": [
    "trainer.save_model(\"./llama_finetuned\")\n",
    "tokenizer.save_pretrained(\"/content/llama_finetuned\")"
   ],
   "id": "8507ff5557f10789",
   "outputs": [],
   "execution_count": 56
  },
  {
   "metadata": {},
   "cell_type": "markdown",
   "source": "### Model testen",
   "id": "e5e8774b44bece77"
  },
  {
   "metadata": {},
   "cell_type": "code",
   "outputs": [],
   "execution_count": null,
   "source": [
    "patient_input = \"Naam: John Doe, Leeftijd: 45, Geslacht: Man, Medicatie: Lisinopril, OpnameDatum: 2024-04-10, Afdeling: Cardiologie\"\n",
    "\n",
    "# Tokeniseer de invoer\n",
    "inputs = tokenizer(patient_input, return_tensors=\"pt\", padding=True, truncation=True, max_length=512)\n",
    "\n",
    "# Voorspel de output\n",
    "outputs = model.generate(inputs[\"input_ids\"], max_length=150)\n",
    "\n",
    "# Decodeer de output\n",
    "generated_text = tokenizer.decode(outputs[0], skip_special_tokens=True)\n",
    "\n",
    "print(f\"Voorspelde diagnose: {generated_text}\")\n"
   ],
   "id": "6e90cecba017e4f8"
  }
 ],
 "metadata": {
  "kernelspec": {
   "display_name": "Python 3 (ipykernel)",
   "language": "python",
   "name": "python3"
  },
  "language_info": {
   "codemirror_mode": {
    "name": "ipython",
    "version": 3
   },
   "file_extension": ".py",
   "mimetype": "text/x-python",
   "name": "python",
   "nbconvert_exporter": "python",
   "pygments_lexer": "ipython3",
   "version": "3.12.6"
  }
 },
 "nbformat": 4,
 "nbformat_minor": 5
}
